{
 "cells": [
  {
   "cell_type": "markdown",
   "id": "97fd7a32",
   "metadata": {},
   "source": [
    "# p-value\n",
    "\n",
    "https://en.wikipedia.org/wiki/P-value"
   ]
  },
  {
   "cell_type": "markdown",
   "id": "304705db",
   "metadata": {},
   "source": [
    "The $p$-value is the probability under the **null hypothesis $H_0$** of obtaining a real-valued test statistic at least as extreme as the one obtained.\n",
    "\n",
    "Consider an observed test-statistic $t$ from unknown distribution $T$. \n",
    "\n",
    "Then the $p$-value $p$ is what the prior probability would be of observing a test-statistic value as least as extreme as $t$ if the null hypothsesis $H_0$ were true.\n",
    "\n",
    "That is:\n",
    "\n",
    "\\begin{align}\n",
    "p &= Pr(T \\geq t \\vert H_0)  \\,\\,\\, \\text{one-sided right-tail test-statistic distribution} \\\\\n",
    "p &= Pr(T \\leq t \\vert H_0)  \\,\\,\\, \\text{one-sided left-tail test-statistic distribution} \\\\\n",
    "p &= 2 \\text{min} \\, \\left( Pr(T \\geq t \\vert H_0), Pr(T \\leq t \\vert H_0) \\right) \\\\\n",
    "p &= Pr(\\vert T \\vert \\geq \\vert t \\vert \\, \\vert H_0) \\,\\, \\text{if $T$ is symmetric about 0}\n",
    "\\end{align}"
   ]
  }
 ],
 "metadata": {
  "language_info": {
   "name": "python"
  }
 },
 "nbformat": 4,
 "nbformat_minor": 5
}
